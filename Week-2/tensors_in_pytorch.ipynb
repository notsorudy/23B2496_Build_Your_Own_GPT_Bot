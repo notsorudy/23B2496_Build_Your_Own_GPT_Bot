{
  "nbformat": 4,
  "nbformat_minor": 0,
  "metadata": {
    "colab": {
      "provenance": []
    },
    "kernelspec": {
      "name": "python3",
      "display_name": "Python 3"
    },
    "language_info": {
      "name": "python"
    }
  },
  "cells": [
    {
      "cell_type": "code",
      "execution_count": null,
      "metadata": {
        "colab": {
          "base_uri": "https://localhost:8080/"
        },
        "id": "G17OPXINo2fm",
        "outputId": "23a0a5b5-f1fc-41e4-cf46-884625dcc276"
      },
      "outputs": [
        {
          "output_type": "stream",
          "name": "stdout",
          "text": [
            "2.6.0+cu124\n"
          ]
        }
      ],
      "source": [
        "import torch\n",
        "print(torch.__version__)"
      ]
    },
    {
      "cell_type": "markdown",
      "source": [
        "Creating a Tensor"
      ],
      "metadata": {
        "id": "hvRpyo9rybmf"
      }
    },
    {
      "cell_type": "code",
      "source": [
        "#using empty\n",
        "a = torch.empty(2,3)"
      ],
      "metadata": {
        "id": "M7OaKCjDHN8-"
      },
      "execution_count": null,
      "outputs": []
    },
    {
      "cell_type": "code",
      "source": [
        "# check type\n",
        "type(a)"
      ],
      "metadata": {
        "id": "M7NBGCUCHb12",
        "colab": {
          "base_uri": "https://localhost:8080/"
        },
        "outputId": "d7fcc2dc-89de-40df-eff7-f8877f7b507f"
      },
      "execution_count": null,
      "outputs": [
        {
          "output_type": "execute_result",
          "data": {
            "text/plain": [
              "torch.Tensor"
            ]
          },
          "metadata": {},
          "execution_count": 6
        }
      ]
    },
    {
      "cell_type": "code",
      "source": [
        "#using zeros\n",
        "torch.zeros(2,3)"
      ],
      "metadata": {
        "id": "KraXikxwHstS",
        "colab": {
          "base_uri": "https://localhost:8080/"
        },
        "outputId": "994af261-97ca-4d4d-f519-3c614b9471af"
      },
      "execution_count": null,
      "outputs": [
        {
          "output_type": "execute_result",
          "data": {
            "text/plain": [
              "tensor([[0., 0., 0.],\n",
              "        [0., 0., 0.]])"
            ]
          },
          "metadata": {},
          "execution_count": 7
        }
      ]
    },
    {
      "cell_type": "code",
      "source": [
        "#using ones\n",
        "torch.ones(2,3)"
      ],
      "metadata": {
        "id": "xPfL2ebcH9WE",
        "colab": {
          "base_uri": "https://localhost:8080/"
        },
        "outputId": "20b3dc62-3545-487b-9b6c-0a477eea7064"
      },
      "execution_count": null,
      "outputs": [
        {
          "output_type": "execute_result",
          "data": {
            "text/plain": [
              "tensor([[1., 1., 1.],\n",
              "        [1., 1., 1.]])"
            ]
          },
          "metadata": {},
          "execution_count": 8
        }
      ]
    },
    {
      "cell_type": "code",
      "source": [
        "#using rand\n",
        "torch.rand(2,3)"
      ],
      "metadata": {
        "colab": {
          "base_uri": "https://localhost:8080/"
        },
        "id": "oX-n7JiuzClc",
        "outputId": "fd3f23c1-fa47-4f8e-dd02-0b7cef687176"
      },
      "execution_count": null,
      "outputs": [
        {
          "output_type": "execute_result",
          "data": {
            "text/plain": [
              "tensor([[0.9239, 0.3527, 0.2848],\n",
              "        [0.4451, 0.2779, 0.0112]])"
            ]
          },
          "metadata": {},
          "execution_count": 9
        }
      ]
    },
    {
      "cell_type": "code",
      "source": [
        "#manual seed (to have reproducibility in case of random tensor formation)\n",
        "torch.manual_seed(42)\n",
        "torch.rand(2,3)"
      ],
      "metadata": {
        "colab": {
          "base_uri": "https://localhost:8080/"
        },
        "id": "4eaJzrfMzIw8",
        "outputId": "33f43483-44ea-4665-a945-90f58568ab74"
      },
      "execution_count": null,
      "outputs": [
        {
          "output_type": "execute_result",
          "data": {
            "text/plain": [
              "tensor([[0.8823, 0.9150, 0.3829],\n",
              "        [0.9593, 0.3904, 0.6009]])"
            ]
          },
          "metadata": {},
          "execution_count": 10
        }
      ]
    },
    {
      "cell_type": "code",
      "source": [
        "torch.manual_seed(42)\n",
        "torch.rand(2,3)"
      ],
      "metadata": {
        "colab": {
          "base_uri": "https://localhost:8080/"
        },
        "id": "_62ZNNR8zUvA",
        "outputId": "a4f814cb-9e5c-48de-d0e1-891dfad374d8"
      },
      "execution_count": null,
      "outputs": [
        {
          "output_type": "execute_result",
          "data": {
            "text/plain": [
              "tensor([[0.8823, 0.9150, 0.3829],\n",
              "        [0.9593, 0.3904, 0.6009]])"
            ]
          },
          "metadata": {},
          "execution_count": 11
        }
      ]
    },
    {
      "cell_type": "code",
      "source": [
        "#using tensor\n",
        "torch.tensor([[1,2,3],[4,5,6]])"
      ],
      "metadata": {
        "colab": {
          "base_uri": "https://localhost:8080/"
        },
        "id": "tAiFaJWzzZfI",
        "outputId": "73ff9bf2-1cd1-4177-f068-639cec69e1a9"
      },
      "execution_count": null,
      "outputs": [
        {
          "output_type": "execute_result",
          "data": {
            "text/plain": [
              "tensor([[1, 2, 3],\n",
              "        [4, 5, 6]])"
            ]
          },
          "metadata": {},
          "execution_count": 13
        }
      ]
    },
    {
      "cell_type": "code",
      "source": [
        "# other ways\n",
        "\n",
        "# arange\n",
        "print(\"using arange ->\", torch.arange(0,10,2))\n",
        "\n",
        "# using linspace\n",
        "print(\"using linspace ->\", torch.linspace(0,10, steps=5))\n",
        "\n",
        "# using eye (identity matrix)\n",
        "print(\"using eye ->\", torch.eye(5))\n",
        "\n",
        "# using full (every element of the tensor becomes 5)\n",
        "print(\"using full ->\", torch.full((2,3), 5))\n"
      ],
      "metadata": {
        "colab": {
          "base_uri": "https://localhost:8080/"
        },
        "id": "mr6ZLucWzizA",
        "outputId": "cfa359c1-157c-4f33-a0c1-e268debab78d"
      },
      "execution_count": null,
      "outputs": [
        {
          "output_type": "stream",
          "name": "stdout",
          "text": [
            "using arange -> tensor([0, 2, 4, 6, 8])\n",
            "using linspace -> tensor([ 0.0000,  2.5000,  5.0000,  7.5000, 10.0000])\n",
            "using eye -> tensor([[1., 0., 0., 0., 0.],\n",
            "        [0., 1., 0., 0., 0.],\n",
            "        [0., 0., 1., 0., 0.],\n",
            "        [0., 0., 0., 1., 0.],\n",
            "        [0., 0., 0., 0., 1.]])\n",
            "using full -> tensor([[5, 5, 5],\n",
            "        [5, 5, 5]])\n"
          ]
        }
      ]
    },
    {
      "cell_type": "markdown",
      "source": [
        "Tensor Shapes"
      ],
      "metadata": {
        "id": "V6uHYolE0f-o"
      }
    },
    {
      "cell_type": "code",
      "source": [
        "x = torch.tensor([[1,2,3],[4,5,6]])"
      ],
      "metadata": {
        "id": "uiNcsEKBzq90"
      },
      "execution_count": null,
      "outputs": []
    },
    {
      "cell_type": "code",
      "source": [
        "x.shape"
      ],
      "metadata": {
        "colab": {
          "base_uri": "https://localhost:8080/"
        },
        "id": "T03pS9ni0p3c",
        "outputId": "a2ea2f4b-5810-4d64-cc92-f6e2bb2ed964"
      },
      "execution_count": null,
      "outputs": [
        {
          "output_type": "execute_result",
          "data": {
            "text/plain": [
              "torch.Size([2, 3])"
            ]
          },
          "metadata": {},
          "execution_count": 17
        }
      ]
    },
    {
      "cell_type": "code",
      "source": [
        "torch.empty_like(x)"
      ],
      "metadata": {
        "colab": {
          "base_uri": "https://localhost:8080/"
        },
        "id": "1dRxU-ds0rb0",
        "outputId": "b922fa8d-94ed-4ea7-d934-6290cf3a9017"
      },
      "execution_count": null,
      "outputs": [
        {
          "output_type": "execute_result",
          "data": {
            "text/plain": [
              "tensor([[3347419672810094592, 7310593858020254331, 3616445622929465956],\n",
              "        [6066964618762267957, 3473183746339517488, 6500163446996416046]])"
            ]
          },
          "metadata": {},
          "execution_count": 18
        }
      ]
    },
    {
      "cell_type": "code",
      "source": [
        "torch.zeros_like(x)"
      ],
      "metadata": {
        "colab": {
          "base_uri": "https://localhost:8080/"
        },
        "id": "I-7E_67g0vUF",
        "outputId": "5d99c4c0-87d5-40e4-d061-1757a4d629b2"
      },
      "execution_count": null,
      "outputs": [
        {
          "output_type": "execute_result",
          "data": {
            "text/plain": [
              "tensor([[0, 0, 0],\n",
              "        [0, 0, 0]])"
            ]
          },
          "metadata": {},
          "execution_count": 19
        }
      ]
    },
    {
      "cell_type": "code",
      "source": [
        "torch.ones_like(x)"
      ],
      "metadata": {
        "colab": {
          "base_uri": "https://localhost:8080/"
        },
        "id": "lMgcBtfh0x5I",
        "outputId": "d80972b2-170c-43ca-9379-2502f6615107"
      },
      "execution_count": null,
      "outputs": [
        {
          "output_type": "execute_result",
          "data": {
            "text/plain": [
              "tensor([[1, 1, 1],\n",
              "        [1, 1, 1]])"
            ]
          },
          "metadata": {},
          "execution_count": 20
        }
      ]
    },
    {
      "cell_type": "code",
      "source": [
        "torch.rand_like(x, dtype = torch.float32)"
      ],
      "metadata": {
        "colab": {
          "base_uri": "https://localhost:8080/"
        },
        "id": "WMZvNde50zjD",
        "outputId": "0b4c4778-07e4-4bf4-e2ac-01b4f09f422d"
      },
      "execution_count": null,
      "outputs": [
        {
          "output_type": "execute_result",
          "data": {
            "text/plain": [
              "tensor([[0.2566, 0.7936, 0.9408],\n",
              "        [0.1332, 0.9346, 0.5936]])"
            ]
          },
          "metadata": {},
          "execution_count": 28
        }
      ]
    },
    {
      "cell_type": "markdown",
      "source": [
        "Tensor Data Types"
      ],
      "metadata": {
        "id": "rt172zC91B6l"
      }
    },
    {
      "cell_type": "code",
      "source": [
        "# find data type\n",
        "x.dtype"
      ],
      "metadata": {
        "colab": {
          "base_uri": "https://localhost:8080/"
        },
        "id": "DCOZLrU201WY",
        "outputId": "ebe6b026-aea6-4181-d8dd-d5f6f211dd0c"
      },
      "execution_count": null,
      "outputs": [
        {
          "output_type": "execute_result",
          "data": {
            "text/plain": [
              "torch.int64"
            ]
          },
          "metadata": {},
          "execution_count": 27
        }
      ]
    },
    {
      "cell_type": "code",
      "source": [
        "# assign data type\n",
        "torch.tensor([1.0,2.0,3.0], dtype = torch.int32)"
      ],
      "metadata": {
        "colab": {
          "base_uri": "https://localhost:8080/"
        },
        "id": "G7vWcykj1HWa",
        "outputId": "483a0848-ce7a-4bf1-bcb7-68ef97a3fa78"
      },
      "execution_count": null,
      "outputs": [
        {
          "output_type": "execute_result",
          "data": {
            "text/plain": [
              "tensor([1, 2, 3], dtype=torch.int32)"
            ]
          },
          "metadata": {},
          "execution_count": 23
        }
      ]
    },
    {
      "cell_type": "code",
      "source": [
        "torch.tensor([1,2,3], dtype = torch.float64)"
      ],
      "metadata": {
        "colab": {
          "base_uri": "https://localhost:8080/"
        },
        "id": "8KVNgT3J1QQh",
        "outputId": "4c705f6a-48b1-495a-c26c-891feca3ceaf"
      },
      "execution_count": null,
      "outputs": [
        {
          "output_type": "execute_result",
          "data": {
            "text/plain": [
              "tensor([1., 2., 3.], dtype=torch.float64)"
            ]
          },
          "metadata": {},
          "execution_count": 24
        }
      ]
    },
    {
      "cell_type": "code",
      "source": [
        "# using to\n",
        "x.to(torch.float32)"
      ],
      "metadata": {
        "colab": {
          "base_uri": "https://localhost:8080/"
        },
        "id": "9-M5b1a31c8L",
        "outputId": "a314608a-f296-4a32-a30b-27b588f99593"
      },
      "execution_count": null,
      "outputs": [
        {
          "output_type": "execute_result",
          "data": {
            "text/plain": [
              "tensor([[1., 2., 3.],\n",
              "        [4., 5., 6.]])"
            ]
          },
          "metadata": {},
          "execution_count": 26
        }
      ]
    },
    {
      "cell_type": "markdown",
      "source": [
        "Mathematical Operations"
      ],
      "metadata": {
        "id": "aPfubIAc1xOe"
      }
    },
    {
      "cell_type": "markdown",
      "source": [
        "1. Scalar Operations"
      ],
      "metadata": {
        "id": "ZRdiqXuV10YA"
      }
    },
    {
      "cell_type": "code",
      "source": [
        "x = torch.rand(2,3)"
      ],
      "metadata": {
        "id": "bmjxKPdG1ggW"
      },
      "execution_count": null,
      "outputs": []
    },
    {
      "cell_type": "code",
      "source": [
        "x"
      ],
      "metadata": {
        "colab": {
          "base_uri": "https://localhost:8080/"
        },
        "id": "iYs2Yu1817b9",
        "outputId": "43120430-f908-4649-8b43-ce92cbc222f4"
      },
      "execution_count": null,
      "outputs": [
        {
          "output_type": "execute_result",
          "data": {
            "text/plain": [
              "tensor([[0.8694, 0.5677, 0.7411],\n",
              "        [0.4294, 0.8854, 0.5739]])"
            ]
          },
          "metadata": {},
          "execution_count": 30
        }
      ]
    },
    {
      "cell_type": "code",
      "source": [
        "# addition\n",
        "x + 2\n",
        "# subtraction\n",
        "x - 2\n",
        "# multiplication\n",
        "x * 3\n",
        "# division\n",
        "x / 3\n",
        "# int division\n",
        "(x * 100)//3\n",
        "# mod\n",
        "((x * 100)//3)%2\n",
        "# power\n",
        "x ** 2"
      ],
      "metadata": {
        "colab": {
          "base_uri": "https://localhost:8080/"
        },
        "id": "FTkmGZI41-RH",
        "outputId": "0e0f79c9-4ef9-4309-e816-9a48a9b0244f"
      },
      "execution_count": null,
      "outputs": [
        {
          "output_type": "execute_result",
          "data": {
            "text/plain": [
              "tensor([[0.7559, 0.3223, 0.5492],\n",
              "        [0.1844, 0.7840, 0.3294]])"
            ]
          },
          "metadata": {},
          "execution_count": 31
        }
      ]
    },
    {
      "cell_type": "markdown",
      "source": [
        "2. Element Wise Operation"
      ],
      "metadata": {
        "id": "t9HsybW82mut"
      }
    },
    {
      "cell_type": "code",
      "source": [
        "a = torch.rand(2,3)\n",
        "b = torch.rand(2,3)\n",
        "print(a)\n",
        "print(b)"
      ],
      "metadata": {
        "colab": {
          "base_uri": "https://localhost:8080/"
        },
        "id": "QkD4iE8k2k7K",
        "outputId": "bfe234c7-6dac-47a0-9790-faf32a0f35a3"
      },
      "execution_count": null,
      "outputs": [
        {
          "output_type": "stream",
          "name": "stdout",
          "text": [
            "tensor([[0.2666, 0.6274, 0.2696],\n",
            "        [0.4414, 0.2969, 0.8317]])\n",
            "tensor([[0.1053, 0.2695, 0.3588],\n",
            "        [0.1994, 0.5472, 0.0062]])\n"
          ]
        }
      ]
    },
    {
      "cell_type": "code",
      "source": [
        "# add\n",
        "a+b\n",
        "# subtract\n",
        "a-b\n",
        "# multiply\n",
        "a*b\n",
        "# divide\n",
        "a/b\n",
        "# power\n",
        "a**b\n",
        "# mod\n",
        "a%b"
      ],
      "metadata": {
        "colab": {
          "base_uri": "https://localhost:8080/"
        },
        "id": "5BaqH6T020AD",
        "outputId": "1258d6a7-cebc-4bf1-b610-8e9d2dd59e5e"
      },
      "execution_count": null,
      "outputs": [
        {
          "output_type": "execute_result",
          "data": {
            "text/plain": [
              "tensor([[5.5950e-02, 8.8459e-02, 2.6963e-01],\n",
              "        [4.2636e-02, 2.9692e-01, 2.6345e-05]])"
            ]
          },
          "metadata": {},
          "execution_count": 33
        }
      ]
    },
    {
      "cell_type": "code",
      "source": [
        "c = torch.tensor([1,-2,3,-4])"
      ],
      "metadata": {
        "id": "u_2ATkmT3KUj"
      },
      "execution_count": null,
      "outputs": []
    },
    {
      "cell_type": "code",
      "source": [
        "# abs\n",
        "torch.abs(c)"
      ],
      "metadata": {
        "colab": {
          "base_uri": "https://localhost:8080/"
        },
        "id": "z9jpRs103Pgg",
        "outputId": "53a14262-eee1-4e65-ff54-381fc90bcda0"
      },
      "execution_count": null,
      "outputs": [
        {
          "output_type": "execute_result",
          "data": {
            "text/plain": [
              "tensor([1, 2, 3, 4])"
            ]
          },
          "metadata": {},
          "execution_count": 35
        }
      ]
    },
    {
      "cell_type": "code",
      "source": [
        "# negative\n",
        "torch.neg(c)"
      ],
      "metadata": {
        "colab": {
          "base_uri": "https://localhost:8080/"
        },
        "id": "x_-bb90I3Tae",
        "outputId": "8424ac0a-884f-4229-b38a-b12bd3a5c65b"
      },
      "execution_count": null,
      "outputs": [
        {
          "output_type": "execute_result",
          "data": {
            "text/plain": [
              "tensor([-1,  2, -3,  4])"
            ]
          },
          "metadata": {},
          "execution_count": 36
        }
      ]
    },
    {
      "cell_type": "code",
      "source": [
        "# round\n",
        "torch.round(torch.tensor([1.2,1.5,1.8]))"
      ],
      "metadata": {
        "colab": {
          "base_uri": "https://localhost:8080/"
        },
        "id": "Jiy1omod3l13",
        "outputId": "64bf6db0-4602-4d50-abf4-3d28e44f3432"
      },
      "execution_count": null,
      "outputs": [
        {
          "output_type": "execute_result",
          "data": {
            "text/plain": [
              "tensor([1., 2., 2.])"
            ]
          },
          "metadata": {},
          "execution_count": 37
        }
      ]
    },
    {
      "cell_type": "code",
      "source": [
        "# ceil\n",
        "torch.ceil(torch.tensor([1.2,1.5,1.8]))"
      ],
      "metadata": {
        "colab": {
          "base_uri": "https://localhost:8080/"
        },
        "id": "h_MNj_hc3pJu",
        "outputId": "42f82980-c893-4b4c-e463-696b88854c23"
      },
      "execution_count": null,
      "outputs": [
        {
          "output_type": "execute_result",
          "data": {
            "text/plain": [
              "tensor([2., 2., 2.])"
            ]
          },
          "metadata": {},
          "execution_count": 38
        }
      ]
    },
    {
      "cell_type": "code",
      "source": [
        "# floor\n",
        "torch.floor(torch.tensor([1.2,1.5,1.8]))"
      ],
      "metadata": {
        "colab": {
          "base_uri": "https://localhost:8080/"
        },
        "id": "1GQ1cYUy3r-F",
        "outputId": "b8f9c377-62da-404a-e180-d9a94f395f9e"
      },
      "execution_count": null,
      "outputs": [
        {
          "output_type": "execute_result",
          "data": {
            "text/plain": [
              "tensor([1., 1., 1.])"
            ]
          },
          "metadata": {},
          "execution_count": 39
        }
      ]
    },
    {
      "cell_type": "code",
      "source": [
        "# clamp\n",
        "torch.clamp(torch.tensor([1,2,3,4,5]), min = 2, max = 4)"
      ],
      "metadata": {
        "colab": {
          "base_uri": "https://localhost:8080/"
        },
        "id": "laAu2pq_3uS3",
        "outputId": "32e394d6-f9dc-4e63-ae98-29872b39cad0"
      },
      "execution_count": null,
      "outputs": [
        {
          "output_type": "execute_result",
          "data": {
            "text/plain": [
              "tensor([2, 2, 3, 4, 4])"
            ]
          },
          "metadata": {},
          "execution_count": 40
        }
      ]
    },
    {
      "cell_type": "markdown",
      "source": [
        "3. Reduction Operation"
      ],
      "metadata": {
        "id": "h4bubzDn318f"
      }
    },
    {
      "cell_type": "code",
      "source": [
        "e = torch.randint(size = (2,3), low = 0, high = 10, dtype = torch.float32)"
      ],
      "metadata": {
        "id": "kkCiKmmg3xrw"
      },
      "execution_count": null,
      "outputs": []
    },
    {
      "cell_type": "code",
      "source": [
        "e"
      ],
      "metadata": {
        "colab": {
          "base_uri": "https://localhost:8080/"
        },
        "id": "5oxn2TUo3-be",
        "outputId": "1241f8ab-564a-4417-db47-cae9156b5356"
      },
      "execution_count": null,
      "outputs": [
        {
          "output_type": "execute_result",
          "data": {
            "text/plain": [
              "tensor([[9., 6., 2.],\n",
              "        [0., 6., 2.]])"
            ]
          },
          "metadata": {},
          "execution_count": 45
        }
      ]
    },
    {
      "cell_type": "code",
      "source": [
        "# sum\n",
        "torch.sum(e)"
      ],
      "metadata": {
        "colab": {
          "base_uri": "https://localhost:8080/"
        },
        "id": "YB6ym2Wv3_Jy",
        "outputId": "5ea25359-32b6-48db-d1a8-1370817aba4e"
      },
      "execution_count": null,
      "outputs": [
        {
          "output_type": "execute_result",
          "data": {
            "text/plain": [
              "tensor(25.)"
            ]
          },
          "metadata": {},
          "execution_count": 46
        }
      ]
    },
    {
      "cell_type": "code",
      "source": [
        "# mean\n",
        "torch.mean(e)"
      ],
      "metadata": {
        "colab": {
          "base_uri": "https://localhost:8080/"
        },
        "id": "GBegdvre4FjT",
        "outputId": "29275ef8-545b-4361-9fc3-72ff562682b3"
      },
      "execution_count": null,
      "outputs": [
        {
          "output_type": "execute_result",
          "data": {
            "text/plain": [
              "tensor(4.1667)"
            ]
          },
          "metadata": {},
          "execution_count": 47
        }
      ]
    },
    {
      "cell_type": "markdown",
      "source": [
        "4. Matrix Operations"
      ],
      "metadata": {
        "id": "N2nrYnhP4ePl"
      }
    },
    {
      "cell_type": "code",
      "source": [
        "f = torch.randint(size = (2,3), low = 0, high = 10, dtype = torch.float32)\n",
        "g = torch.randint(size = (3,2), low = 0, high = 10, dtype = torch.float32)"
      ],
      "metadata": {
        "id": "YQWzy-sm4cy9"
      },
      "execution_count": null,
      "outputs": []
    },
    {
      "cell_type": "code",
      "source": [
        "# Matrix Multiplication\n",
        "torch.matmul(f,g)"
      ],
      "metadata": {
        "colab": {
          "base_uri": "https://localhost:8080/"
        },
        "id": "iMlPkWRx4sQs",
        "outputId": "ff05458d-3c83-426a-c219-6e9d57093536"
      },
      "execution_count": null,
      "outputs": [
        {
          "output_type": "execute_result",
          "data": {
            "text/plain": [
              "tensor([[ 21., 193.],\n",
              "        [  9.,  84.]])"
            ]
          },
          "metadata": {},
          "execution_count": 49
        }
      ]
    },
    {
      "cell_type": "code",
      "source": [
        "vector1 = torch.tensor([1,2])\n",
        "vector2 = torch.tensor([3,4])\n"
      ],
      "metadata": {
        "id": "vL-sGG__42J-"
      },
      "execution_count": null,
      "outputs": []
    },
    {
      "cell_type": "code",
      "source": [
        "# dot product\n",
        "torch.dot(vector1, vector2)"
      ],
      "metadata": {
        "colab": {
          "base_uri": "https://localhost:8080/"
        },
        "id": "vAGCuSe-5acu",
        "outputId": "a81b78d6-02a4-4058-87a8-572ca263cfcb"
      },
      "execution_count": null,
      "outputs": [
        {
          "output_type": "execute_result",
          "data": {
            "text/plain": [
              "tensor(11)"
            ]
          },
          "metadata": {},
          "execution_count": 51
        }
      ]
    },
    {
      "cell_type": "code",
      "source": [
        "# transpose\n",
        "torch.transpose(f, 0, 1)"
      ],
      "metadata": {
        "colab": {
          "base_uri": "https://localhost:8080/"
        },
        "id": "nxf1AmTl5dj3",
        "outputId": "4d5cea82-aafc-48b6-e2e5-42cf5f41d472"
      },
      "execution_count": null,
      "outputs": [
        {
          "output_type": "execute_result",
          "data": {
            "text/plain": [
              "tensor([[7., 3.],\n",
              "        [9., 3.],\n",
              "        [7., 4.]])"
            ]
          },
          "metadata": {},
          "execution_count": 52
        }
      ]
    },
    {
      "cell_type": "code",
      "source": [
        "h = torch.randint(size = (3,3), low = 0, high = 10, dtype = torch.float32)\n",
        "h"
      ],
      "metadata": {
        "colab": {
          "base_uri": "https://localhost:8080/"
        },
        "id": "M_lWdZB-5kpI",
        "outputId": "bb949b09-69be-46ea-f903-00461125b849"
      },
      "execution_count": null,
      "outputs": [
        {
          "output_type": "execute_result",
          "data": {
            "text/plain": [
              "tensor([[1., 7., 9.],\n",
              "        [4., 3., 8.],\n",
              "        [9., 3., 7.]])"
            ]
          },
          "metadata": {},
          "execution_count": 57
        }
      ]
    },
    {
      "cell_type": "code",
      "source": [
        "# determinant\n",
        "torch.det(h)"
      ],
      "metadata": {
        "colab": {
          "base_uri": "https://localhost:8080/"
        },
        "id": "p2uQ0h8B5qKi",
        "outputId": "9638e76f-149a-4e8e-b136-2deaf4119611"
      },
      "execution_count": null,
      "outputs": [
        {
          "output_type": "execute_result",
          "data": {
            "text/plain": [
              "tensor(170.)"
            ]
          },
          "metadata": {},
          "execution_count": 58
        }
      ]
    },
    {
      "cell_type": "code",
      "source": [
        "# inverse\n",
        "torch.inverse(h)"
      ],
      "metadata": {
        "colab": {
          "base_uri": "https://localhost:8080/"
        },
        "id": "w_UYZCIO5tSj",
        "outputId": "7feb669c-af58-49d2-8a1f-49714ff49c5a"
      },
      "execution_count": null,
      "outputs": [
        {
          "output_type": "execute_result",
          "data": {
            "text/plain": [
              "tensor([[-0.0176, -0.1294,  0.1706],\n",
              "        [ 0.2588, -0.4353,  0.1647],\n",
              "        [-0.0882,  0.3529, -0.1471]])"
            ]
          },
          "metadata": {},
          "execution_count": 59
        }
      ]
    },
    {
      "cell_type": "markdown",
      "source": [
        "5. Comparision Operations"
      ],
      "metadata": {
        "id": "yjq7lYuo56IK"
      }
    },
    {
      "cell_type": "code",
      "source": [
        "i = torch.randint(size = (2,3), low = 0, high = 10, dtype = torch.float32)\n",
        "j = torch.randint(size = (2,3), low = 0, high = 10, dtype = torch.float32)\n",
        "\n",
        "print(i)\n",
        "print(j)"
      ],
      "metadata": {
        "colab": {
          "base_uri": "https://localhost:8080/"
        },
        "id": "zw2csX3R54p6",
        "outputId": "8df9cb7e-74d9-4104-8fd1-3394ec5490a6"
      },
      "execution_count": null,
      "outputs": [
        {
          "output_type": "stream",
          "name": "stdout",
          "text": [
            "tensor([[8., 1., 4.],\n",
            "        [1., 6., 3.]])\n",
            "tensor([[2., 0., 9.],\n",
            "        [8., 5., 3.]])\n"
          ]
        }
      ]
    },
    {
      "cell_type": "code",
      "source": [
        "# greater than\n",
        "i>j\n",
        "# less than\n",
        "\n",
        "# equal to"
      ],
      "metadata": {
        "colab": {
          "base_uri": "https://localhost:8080/"
        },
        "id": "tCa2JNcg7MS8",
        "outputId": "154f8e87-b638-4732-aece-c7eeadda2261"
      },
      "execution_count": null,
      "outputs": [
        {
          "output_type": "execute_result",
          "data": {
            "text/plain": [
              "tensor([[ True,  True, False],\n",
              "        [False,  True, False]])"
            ]
          },
          "metadata": {},
          "execution_count": 61
        }
      ]
    },
    {
      "cell_type": "markdown",
      "source": [
        "6. Special Functions"
      ],
      "metadata": {
        "id": "IP-UZQIu7UmS"
      }
    },
    {
      "cell_type": "code",
      "source": [
        "k = torch.randint(size = (2,3), low = 0, high = 10, dtype = torch.float32)\n",
        "k"
      ],
      "metadata": {
        "colab": {
          "base_uri": "https://localhost:8080/"
        },
        "id": "uI3NIiMc7TeG",
        "outputId": "9dfff098-2a4b-41b3-a739-ec5339b6d5d3"
      },
      "execution_count": null,
      "outputs": [
        {
          "output_type": "execute_result",
          "data": {
            "text/plain": [
              "tensor([[7., 7., 5.],\n",
              "        [9., 1., 5.]])"
            ]
          },
          "metadata": {},
          "execution_count": 62
        }
      ]
    },
    {
      "cell_type": "code",
      "source": [
        "#log\n",
        "torch.log(k)"
      ],
      "metadata": {
        "colab": {
          "base_uri": "https://localhost:8080/"
        },
        "id": "-HdsqrR97ar0",
        "outputId": "01848a81-a1a7-4aba-85d9-0bc5a06e49b5"
      },
      "execution_count": null,
      "outputs": [
        {
          "output_type": "execute_result",
          "data": {
            "text/plain": [
              "tensor([[1.9459, 1.9459, 1.6094],\n",
              "        [2.1972, 0.0000, 1.6094]])"
            ]
          },
          "metadata": {},
          "execution_count": 63
        }
      ]
    },
    {
      "cell_type": "code",
      "source": [
        "#exp\n",
        "torch.exp(k)"
      ],
      "metadata": {
        "colab": {
          "base_uri": "https://localhost:8080/"
        },
        "id": "hJ_MU_YG7dPo",
        "outputId": "ea3a398e-893a-421e-d88d-7b8b6a258444"
      },
      "execution_count": null,
      "outputs": [
        {
          "output_type": "execute_result",
          "data": {
            "text/plain": [
              "tensor([[1.0966e+03, 1.0966e+03, 1.4841e+02],\n",
              "        [8.1031e+03, 2.7183e+00, 1.4841e+02]])"
            ]
          },
          "metadata": {},
          "execution_count": 65
        }
      ]
    },
    {
      "cell_type": "code",
      "source": [
        "torch.sqrt(k)"
      ],
      "metadata": {
        "colab": {
          "base_uri": "https://localhost:8080/"
        },
        "id": "7FD0vn0u7h2p",
        "outputId": "ab0964dc-e355-4a92-bed1-c27cd434e65f"
      },
      "execution_count": null,
      "outputs": [
        {
          "output_type": "execute_result",
          "data": {
            "text/plain": [
              "tensor([[2.6458, 2.6458, 2.2361],\n",
              "        [3.0000, 1.0000, 2.2361]])"
            ]
          },
          "metadata": {},
          "execution_count": 66
        }
      ]
    },
    {
      "cell_type": "code",
      "source": [
        "torch.sigmoid(k)"
      ],
      "metadata": {
        "colab": {
          "base_uri": "https://localhost:8080/"
        },
        "id": "MUdzTnHu7q5U",
        "outputId": "72d826e0-909f-4794-b934-5211a8998bf4"
      },
      "execution_count": null,
      "outputs": [
        {
          "output_type": "execute_result",
          "data": {
            "text/plain": [
              "tensor([[0.9991, 0.9991, 0.9933],\n",
              "        [0.9999, 0.7311, 0.9933]])"
            ]
          },
          "metadata": {},
          "execution_count": 67
        }
      ]
    },
    {
      "cell_type": "code",
      "source": [
        "torch.softmax(k, dim = 0)"
      ],
      "metadata": {
        "colab": {
          "base_uri": "https://localhost:8080/"
        },
        "id": "NZfhyxk37t1X",
        "outputId": "be5bf064-105c-407b-cf14-bea01dd433f7"
      },
      "execution_count": null,
      "outputs": [
        {
          "output_type": "execute_result",
          "data": {
            "text/plain": [
              "tensor([[0.1192, 0.9975, 0.5000],\n",
              "        [0.8808, 0.0025, 0.5000]])"
            ]
          },
          "metadata": {},
          "execution_count": 68
        }
      ]
    },
    {
      "cell_type": "markdown",
      "source": [
        "Inplace Operation"
      ],
      "metadata": {
        "id": "QJ2Enj__71Tv"
      }
    },
    {
      "cell_type": "code",
      "source": [
        "m = torch.rand(2,3)\n",
        "n = torch.rand(2,3)\n",
        "print(m)\n",
        "print(n)"
      ],
      "metadata": {
        "colab": {
          "base_uri": "https://localhost:8080/"
        },
        "id": "MN68TNAP7yJV",
        "outputId": "b79c07e7-a34d-4574-caff-49a3e90dc165"
      },
      "execution_count": null,
      "outputs": [
        {
          "output_type": "stream",
          "name": "stdout",
          "text": [
            "tensor([[0.9578, 0.3313, 0.3227],\n",
            "        [0.0162, 0.2137, 0.6249]])\n",
            "tensor([[0.4340, 0.1371, 0.5117],\n",
            "        [0.1585, 0.0758, 0.2247]])\n"
          ]
        }
      ]
    },
    {
      "cell_type": "code",
      "source": [
        "m.add_(n)"
      ],
      "metadata": {
        "colab": {
          "base_uri": "https://localhost:8080/"
        },
        "id": "LvTXqF4D8Joq",
        "outputId": "c82f9744-5ee5-4289-d082-6332383ec42a"
      },
      "execution_count": null,
      "outputs": [
        {
          "output_type": "execute_result",
          "data": {
            "text/plain": [
              "tensor([[1.3918, 0.4683, 0.8345],\n",
              "        [0.1747, 0.2895, 0.8496]])"
            ]
          },
          "metadata": {},
          "execution_count": 72
        }
      ]
    },
    {
      "cell_type": "code",
      "source": [
        "m"
      ],
      "metadata": {
        "colab": {
          "base_uri": "https://localhost:8080/"
        },
        "id": "qT1K_aU58Ok1",
        "outputId": "d24f6024-9b54-43b5-d9d0-e8d3f20052c3"
      },
      "execution_count": null,
      "outputs": [
        {
          "output_type": "execute_result",
          "data": {
            "text/plain": [
              "tensor([[1.3918, 0.4683, 0.8345],\n",
              "        [0.1747, 0.2895, 0.8496]])"
            ]
          },
          "metadata": {},
          "execution_count": 73
        }
      ]
    },
    {
      "cell_type": "code",
      "source": [
        "m.relu_() # underscore means inplace operation"
      ],
      "metadata": {
        "colab": {
          "base_uri": "https://localhost:8080/"
        },
        "id": "zTR5LfGe8Vhx",
        "outputId": "9943ec46-a986-4094-e209-a2e212ad0291"
      },
      "execution_count": null,
      "outputs": [
        {
          "output_type": "execute_result",
          "data": {
            "text/plain": [
              "tensor([[1.3918, 0.4683, 0.8345],\n",
              "        [0.1747, 0.2895, 0.8496]])"
            ]
          },
          "metadata": {},
          "execution_count": 74
        }
      ]
    },
    {
      "cell_type": "markdown",
      "source": [
        "Copying a Tensor"
      ],
      "metadata": {
        "id": "8yQr-82C8hiW"
      }
    },
    {
      "cell_type": "code",
      "source": [
        "a = torch.rand(2,3)\n",
        "a"
      ],
      "metadata": {
        "colab": {
          "base_uri": "https://localhost:8080/"
        },
        "id": "dFxw3LgK8XrF",
        "outputId": "a5c1cdd0-51c4-428e-8d18-55c5009d2915"
      },
      "execution_count": null,
      "outputs": [
        {
          "output_type": "execute_result",
          "data": {
            "text/plain": [
              "tensor([[0.0624, 0.1816, 0.9998],\n",
              "        [0.5944, 0.6541, 0.0337]])"
            ]
          },
          "metadata": {},
          "execution_count": 75
        }
      ]
    },
    {
      "cell_type": "code",
      "source": [
        "b = a"
      ],
      "metadata": {
        "id": "CIL7MwW68mis"
      },
      "execution_count": null,
      "outputs": []
    },
    {
      "cell_type": "code",
      "source": [
        "b"
      ],
      "metadata": {
        "colab": {
          "base_uri": "https://localhost:8080/"
        },
        "id": "W15hFJ5z8noP",
        "outputId": "5ddd1be6-457e-43bd-9109-bb8e0d8167e9"
      },
      "execution_count": null,
      "outputs": [
        {
          "output_type": "execute_result",
          "data": {
            "text/plain": [
              "tensor([[0.0624, 0.1816, 0.9998],\n",
              "        [0.5944, 0.6541, 0.0337]])"
            ]
          },
          "metadata": {},
          "execution_count": 77
        }
      ]
    },
    {
      "cell_type": "code",
      "source": [
        "a[0][0] = 0"
      ],
      "metadata": {
        "id": "AGMN7qs58oBZ"
      },
      "execution_count": null,
      "outputs": []
    },
    {
      "cell_type": "code",
      "source": [
        "a"
      ],
      "metadata": {
        "colab": {
          "base_uri": "https://localhost:8080/"
        },
        "id": "ztyhGXad8rBG",
        "outputId": "9246b3d2-888c-4d89-9f68-d5f627080818"
      },
      "execution_count": null,
      "outputs": [
        {
          "output_type": "execute_result",
          "data": {
            "text/plain": [
              "tensor([[0.0000, 0.1816, 0.9998],\n",
              "        [0.5944, 0.6541, 0.0337]])"
            ]
          },
          "metadata": {},
          "execution_count": 79
        }
      ]
    },
    {
      "cell_type": "code",
      "source": [
        "b"
      ],
      "metadata": {
        "colab": {
          "base_uri": "https://localhost:8080/"
        },
        "id": "SucWSKB48rse",
        "outputId": "f1f385b1-fb12-4e0e-b962-667366d199f0"
      },
      "execution_count": null,
      "outputs": [
        {
          "output_type": "execute_result",
          "data": {
            "text/plain": [
              "tensor([[0.0000, 0.1816, 0.9998],\n",
              "        [0.5944, 0.6541, 0.0337]])"
            ]
          },
          "metadata": {},
          "execution_count": 80
        }
      ]
    },
    {
      "cell_type": "code",
      "source": [
        "id(a)"
      ],
      "metadata": {
        "colab": {
          "base_uri": "https://localhost:8080/"
        },
        "id": "XubqDOZi8r-4",
        "outputId": "60e9ca7a-33ba-4847-991e-9b2f2969b01c"
      },
      "execution_count": null,
      "outputs": [
        {
          "output_type": "execute_result",
          "data": {
            "text/plain": [
              "137335957151408"
            ]
          },
          "metadata": {},
          "execution_count": 81
        }
      ]
    },
    {
      "cell_type": "code",
      "source": [
        "id(b)"
      ],
      "metadata": {
        "colab": {
          "base_uri": "https://localhost:8080/"
        },
        "id": "0zcuTWjo8ueO",
        "outputId": "044bd1a5-86ca-4f0d-d7e8-9b7e959c0d6d"
      },
      "execution_count": null,
      "outputs": [
        {
          "output_type": "execute_result",
          "data": {
            "text/plain": [
              "137335957151408"
            ]
          },
          "metadata": {},
          "execution_count": 82
        }
      ]
    },
    {
      "cell_type": "code",
      "source": [
        "b = a.clone()"
      ],
      "metadata": {
        "id": "-3ZuF4wP8vMD"
      },
      "execution_count": null,
      "outputs": []
    },
    {
      "cell_type": "code",
      "source": [
        "a[0][0] = 10"
      ],
      "metadata": {
        "id": "9pb6NwrZ8yKd"
      },
      "execution_count": null,
      "outputs": []
    },
    {
      "cell_type": "code",
      "source": [
        "a"
      ],
      "metadata": {
        "colab": {
          "base_uri": "https://localhost:8080/"
        },
        "id": "Youw0AoT81kJ",
        "outputId": "991d7d5b-0f4f-43ae-d39e-5fc86bad69e6"
      },
      "execution_count": null,
      "outputs": [
        {
          "output_type": "execute_result",
          "data": {
            "text/plain": [
              "tensor([[10.0000,  0.1816,  0.9998],\n",
              "        [ 0.5944,  0.6541,  0.0337]])"
            ]
          },
          "metadata": {},
          "execution_count": 85
        }
      ]
    },
    {
      "cell_type": "code",
      "source": [
        "b"
      ],
      "metadata": {
        "colab": {
          "base_uri": "https://localhost:8080/"
        },
        "id": "2DwTmDYy81wn",
        "outputId": "b0e4c9f0-d673-495b-cda0-e3465c4be689"
      },
      "execution_count": null,
      "outputs": [
        {
          "output_type": "execute_result",
          "data": {
            "text/plain": [
              "tensor([[0.0000, 0.1816, 0.9998],\n",
              "        [0.5944, 0.6541, 0.0337]])"
            ]
          },
          "metadata": {},
          "execution_count": 86
        }
      ]
    },
    {
      "cell_type": "code",
      "source": [
        "id(a)"
      ],
      "metadata": {
        "colab": {
          "base_uri": "https://localhost:8080/"
        },
        "id": "9b1lTADX82Gl",
        "outputId": "9eb25cda-7f41-4e82-8eea-4dfdb8101dc4"
      },
      "execution_count": null,
      "outputs": [
        {
          "output_type": "execute_result",
          "data": {
            "text/plain": [
              "137335957151408"
            ]
          },
          "metadata": {},
          "execution_count": 87
        }
      ]
    },
    {
      "cell_type": "code",
      "source": [
        "id(b)"
      ],
      "metadata": {
        "colab": {
          "base_uri": "https://localhost:8080/"
        },
        "id": "4S0n-tQW820h",
        "outputId": "31d707a5-200c-4572-f52d-63ae13bc4017"
      },
      "execution_count": null,
      "outputs": [
        {
          "output_type": "execute_result",
          "data": {
            "text/plain": [
              "137335957150352"
            ]
          },
          "metadata": {},
          "execution_count": 88
        }
      ]
    },
    {
      "cell_type": "markdown",
      "source": [
        "Tensor Operations on GPU"
      ],
      "metadata": {
        "id": "9_-TFV9y9jek"
      }
    },
    {
      "cell_type": "code",
      "source": [
        "torch.cuda.is_available()"
      ],
      "metadata": {
        "colab": {
          "base_uri": "https://localhost:8080/"
        },
        "id": "b2bu93S083Y_",
        "outputId": "3128362e-7f0a-40f0-9887-d15ab6477128"
      },
      "execution_count": null,
      "outputs": [
        {
          "output_type": "execute_result",
          "data": {
            "text/plain": [
              "False"
            ]
          },
          "metadata": {},
          "execution_count": 89
        }
      ]
    },
    {
      "cell_type": "markdown",
      "source": [
        "Reshaping Tensors"
      ],
      "metadata": {
        "id": "mp6xRjh3-tQs"
      }
    },
    {
      "cell_type": "code",
      "source": [
        "a = torch.rand(4,4)\n",
        "a"
      ],
      "metadata": {
        "colab": {
          "base_uri": "https://localhost:8080/"
        },
        "id": "qHfydO7h9r0Z",
        "outputId": "47a6b180-d45f-4015-f0a5-e2397f89c00e"
      },
      "execution_count": null,
      "outputs": [
        {
          "output_type": "execute_result",
          "data": {
            "text/plain": [
              "tensor([[0.1716, 0.3336, 0.5782, 0.0600],\n",
              "        [0.2846, 0.2007, 0.5014, 0.3139],\n",
              "        [0.4654, 0.1612, 0.1568, 0.2083],\n",
              "        [0.3289, 0.1054, 0.9192, 0.4008]])"
            ]
          },
          "metadata": {},
          "execution_count": 90
        }
      ]
    },
    {
      "cell_type": "code",
      "source": [
        "# reshape\n",
        "a.reshape(2,2,2,2)"
      ],
      "metadata": {
        "colab": {
          "base_uri": "https://localhost:8080/"
        },
        "id": "JQxvyks8-zKb",
        "outputId": "a716b29c-cab5-4838-9d20-ac45b97c98c0"
      },
      "execution_count": null,
      "outputs": [
        {
          "output_type": "execute_result",
          "data": {
            "text/plain": [
              "tensor([[[[0.1716, 0.3336],\n",
              "          [0.5782, 0.0600]],\n",
              "\n",
              "         [[0.2846, 0.2007],\n",
              "          [0.5014, 0.3139]]],\n",
              "\n",
              "\n",
              "        [[[0.4654, 0.1612],\n",
              "          [0.1568, 0.2083]],\n",
              "\n",
              "         [[0.3289, 0.1054],\n",
              "          [0.9192, 0.4008]]]])"
            ]
          },
          "metadata": {},
          "execution_count": 92
        }
      ]
    },
    {
      "cell_type": "code",
      "source": [
        "# flatten\n",
        "a.flatten()"
      ],
      "metadata": {
        "colab": {
          "base_uri": "https://localhost:8080/"
        },
        "id": "fE6PBHknAiel",
        "outputId": "1b4ec4ba-ca0f-4160-ce6c-0ced37c92b61"
      },
      "execution_count": null,
      "outputs": [
        {
          "output_type": "execute_result",
          "data": {
            "text/plain": [
              "tensor([0.1716, 0.3336, 0.5782, 0.0600, 0.2846, 0.2007, 0.5014, 0.3139, 0.4654,\n",
              "        0.1612, 0.1568, 0.2083, 0.3289, 0.1054, 0.9192, 0.4008])"
            ]
          },
          "metadata": {},
          "execution_count": 94
        }
      ]
    },
    {
      "cell_type": "code",
      "source": [
        "b = torch.rand(2,3,4)\n",
        "b"
      ],
      "metadata": {
        "id": "rCqq13mcApLq",
        "colab": {
          "base_uri": "https://localhost:8080/"
        },
        "outputId": "44ea2322-1bb7-4895-947a-f5008ddaa945"
      },
      "execution_count": null,
      "outputs": [
        {
          "output_type": "execute_result",
          "data": {
            "text/plain": [
              "tensor([[[0.9762, 0.0405, 0.1854, 0.6252],\n",
              "         [0.7793, 0.8267, 0.8904, 0.5743],\n",
              "         [0.3933, 0.3650, 0.5087, 0.2654]],\n",
              "\n",
              "        [[0.7366, 0.7591, 0.5485, 0.4057],\n",
              "         [0.0537, 0.2075, 0.1480, 0.3593],\n",
              "         [0.0963, 0.4562, 0.3829, 0.2569]]])"
            ]
          },
          "metadata": {},
          "execution_count": 2
        }
      ]
    },
    {
      "cell_type": "code",
      "source": [
        "# permute\n",
        "c = b.permute(2,0,1)\n",
        "c"
      ],
      "metadata": {
        "colab": {
          "base_uri": "https://localhost:8080/"
        },
        "id": "cZP1D5t-IdxN",
        "outputId": "44810990-dd93-4831-b0a7-25b683518381"
      },
      "execution_count": null,
      "outputs": [
        {
          "output_type": "execute_result",
          "data": {
            "text/plain": [
              "tensor([[[0.9762, 0.7793, 0.3933],\n",
              "         [0.7366, 0.0537, 0.0963]],\n",
              "\n",
              "        [[0.0405, 0.8267, 0.3650],\n",
              "         [0.7591, 0.2075, 0.4562]],\n",
              "\n",
              "        [[0.1854, 0.8904, 0.5087],\n",
              "         [0.5485, 0.1480, 0.3829]],\n",
              "\n",
              "        [[0.6252, 0.5743, 0.2654],\n",
              "         [0.4057, 0.3593, 0.2569]]])"
            ]
          },
          "metadata": {},
          "execution_count": 4
        }
      ]
    },
    {
      "cell_type": "code",
      "source": [
        "# unsqueeze - used to add a dimension at a given place (useful as )\n",
        "c = torch.rand(226,226,3)\n",
        "c.unsqueeze(0).shape"
      ],
      "metadata": {
        "colab": {
          "base_uri": "https://localhost:8080/"
        },
        "id": "W95fafR-IkSW",
        "outputId": "f57183db-8901-4fb5-c7e7-15182bc26fca"
      },
      "execution_count": null,
      "outputs": [
        {
          "output_type": "execute_result",
          "data": {
            "text/plain": [
              "torch.Size([1, 226, 226, 3])"
            ]
          },
          "metadata": {},
          "execution_count": 5
        }
      ]
    },
    {
      "cell_type": "code",
      "source": [
        "# squeeze\n",
        "d = torch.rand(1,20)\n",
        "d.squeeze(0).shape"
      ],
      "metadata": {
        "colab": {
          "base_uri": "https://localhost:8080/"
        },
        "id": "hzar2i3DJaHc",
        "outputId": "a84b60e1-d879-4fe3-8ed7-98e8e3814a49"
      },
      "execution_count": null,
      "outputs": [
        {
          "output_type": "execute_result",
          "data": {
            "text/plain": [
              "torch.Size([20])"
            ]
          },
          "metadata": {},
          "execution_count": 6
        }
      ]
    },
    {
      "cell_type": "markdown",
      "source": [
        "Numpy and Pytorch"
      ],
      "metadata": {
        "id": "m0f1577BJy51"
      }
    },
    {
      "cell_type": "code",
      "source": [
        "import numpy as np"
      ],
      "metadata": {
        "id": "xQaCdnpAJxFF"
      },
      "execution_count": null,
      "outputs": []
    },
    {
      "cell_type": "code",
      "source": [
        "a = torch.tensor([1,2,3])"
      ],
      "metadata": {
        "id": "4aGi4xPNJ3DN"
      },
      "execution_count": null,
      "outputs": []
    },
    {
      "cell_type": "code",
      "source": [
        "b = a.numpy()\n",
        "b"
      ],
      "metadata": {
        "colab": {
          "base_uri": "https://localhost:8080/"
        },
        "id": "y6T-bCiGKCCH",
        "outputId": "f41e372c-7d8b-4ff2-baa1-0020dcd16dbe"
      },
      "execution_count": null,
      "outputs": [
        {
          "output_type": "execute_result",
          "data": {
            "text/plain": [
              "array([1, 2, 3])"
            ]
          },
          "metadata": {},
          "execution_count": 9
        }
      ]
    },
    {
      "cell_type": "code",
      "source": [
        "type(b)"
      ],
      "metadata": {
        "colab": {
          "base_uri": "https://localhost:8080/"
        },
        "id": "GXb3gVP9KHAg",
        "outputId": "54f01114-6ff8-4533-dbb3-69b99b89a899"
      },
      "execution_count": null,
      "outputs": [
        {
          "output_type": "execute_result",
          "data": {
            "text/plain": [
              "numpy.ndarray"
            ]
          },
          "metadata": {},
          "execution_count": 10
        }
      ]
    },
    {
      "cell_type": "code",
      "source": [
        "c = np.array([1,2,3])"
      ],
      "metadata": {
        "id": "0FHt_T0bKJRf"
      },
      "execution_count": null,
      "outputs": []
    },
    {
      "cell_type": "code",
      "source": [
        "d = torch.from_numpy(c)\n",
        "type(d)"
      ],
      "metadata": {
        "colab": {
          "base_uri": "https://localhost:8080/"
        },
        "id": "Xwx2ZLvDKNN3",
        "outputId": "f5a911a4-6dab-41dc-bf0e-fc832936e207"
      },
      "execution_count": null,
      "outputs": [
        {
          "output_type": "execute_result",
          "data": {
            "text/plain": [
              "torch.Tensor"
            ]
          },
          "metadata": {},
          "execution_count": 12
        }
      ]
    },
    {
      "cell_type": "code",
      "source": [],
      "metadata": {
        "id": "AZAcUhq-KTrh"
      },
      "execution_count": null,
      "outputs": []
    }
  ]
}